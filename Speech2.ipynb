{
 "cells": [
  {
   "cell_type": "code",
   "execution_count": null,
   "metadata": {},
   "outputs": [],
   "source": [
    "import os\n",
    "import librosa\n",
    "import numpy as np\n",
    "import soundfile as sf  # Use soundfile to save audio files\n",
    "\n",
    "def augment_audio(input_path, output_path, augmentations=3):\n",
    "    os.makedirs(output_path, exist_ok=True)\n",
    "    files = os.listdir(input_path)\n",
    "    for file in files:\n",
    "        file_path = os.path.join(input_path, file)\n",
    "        if file.endswith(\".wav\"):\n",
    "            audio, sr = librosa.load(file_path, sr=None)\n",
    "\n",
    "            for i in range(augmentations):\n",
    "                # Apply random augmentation\n",
    "                if i % 3 == 0:\n",
    "                    # Time stretching\n",
    "                    augmented = librosa.effects.time_stretch(y=audio, rate=np.random.uniform(0.8, 1.2))\n",
    "                elif i % 3 == 1:\n",
    "                    # Pitch shifting\n",
    "                    augmented = librosa.effects.pitch_shift(y=audio, sr=sr, n_steps=np.random.randint(-2, 2))\n",
    "                elif i % 3 == 2:\n",
    "                    # Add noise\n",
    "                    noise = np.random.normal(0, 0.005, len(audio))\n",
    "                    augmented = audio + noise\n",
    "                \n",
    "                # Save the augmented audio\n",
    "                output_file = os.path.join(output_path, f\"{file.split('.')[0]}_aug{i}.wav\")\n",
    "                sf.write(output_file, augmented, sr)  # Use soundfile.write\n",
    "                print(f\"Augmented file saved at: {output_file}\")\n",
    "\n",
    "# Paths\n",
    "input_crying = \"./Dataset/crying\"\n",
    "input_yawning = \"./Dataset/yawning\"\n",
    "output_crying = \"./Dataset/Augmented/crying\"\n",
    "output_yawning = \"./Dataset/Augmented/yawning\"\n",
    "\n",
    "# Run augmentation\n",
    "augment_audio(input_crying, output_crying)\n",
    "augment_audio(input_yawning, output_yawning)\n"
   ]
  },
  {
   "cell_type": "code",
   "execution_count": 6,
   "metadata": {},
   "outputs": [
    {
     "name": "stdout",
     "output_type": "stream",
     "text": [
      "Feature extraction complete. Data saved to ./audio_features.csv\n"
     ]
    }
   ],
   "source": [
    "import os\n",
    "import librosa\n",
    "import numpy as np\n",
    "import pandas as pd\n",
    "\n",
    "def extract_features_from_directory(input_dir, output_csv):\n",
    "    \"\"\"\n",
    "    Extracts MFCC features from audio files in a directory and saves to a CSV.\n",
    "\n",
    "    Parameters:\n",
    "    - input_dir: Path to the directory containing class subdirectories with .wav files.\n",
    "    - output_csv: Path to save the resulting CSV file.\n",
    "    \"\"\"\n",
    "    data = []\n",
    "    labels = []\n",
    "    for label in os.listdir(input_dir):\n",
    "        class_dir = os.path.join(input_dir, label)\n",
    "        if os.path.isdir(class_dir):\n",
    "            for file in os.listdir(class_dir):\n",
    "                file_path = os.path.join(class_dir, file)\n",
    "                if file.endswith(\".wav\"):\n",
    "                    try:\n",
    "                        # Load audio file\n",
    "                        audio, sr = librosa.load(file_path, sr=None)\n",
    "                        \n",
    "                        # Extract MFCC features\n",
    "                        mfcc = librosa.feature.mfcc(y=audio, sr=sr, n_mfcc=13)  # 13 MFCC coefficients\n",
    "                        mfcc_mean = np.mean(mfcc.T, axis=0)  # Mean across time\n",
    "                        \n",
    "                        # Add features and label\n",
    "                        data.append(mfcc_mean)\n",
    "                        labels.append(label)\n",
    "                    except Exception as e:\n",
    "                        print(f\"Error processing {file_path}: {e}\")\n",
    "\n",
    "    # Convert to DataFrame\n",
    "    df = pd.DataFrame(data)\n",
    "    df['label'] = labels  # Add labels as the last column\n",
    "\n",
    "    # Save to CSV\n",
    "    df.to_csv(output_csv, index=False)\n",
    "    print(f\"Feature extraction complete. Data saved to {output_csv}\")\n",
    "\n",
    "# Paths\n",
    "input_dir = \"./Dataset/Augmented\"  # Path to directory containing \"crying\" and \"yawning\" folders\n",
    "output_csv = \"./audio_features.csv\"  # Output CSV file\n",
    "\n",
    "# Extract features\n",
    "extract_features_from_directory(input_dir, output_csv)\n"
   ]
  },
  {
   "cell_type": "code",
   "execution_count": 12,
   "metadata": {},
   "outputs": [
    {
     "name": "stdout",
     "output_type": "stream",
     "text": [
      "Classification Report:\n",
      "              precision    recall  f1-score   support\n",
      "\n",
      "      crying       1.00      0.87      0.93        15\n",
      "     yawning       0.94      1.00      0.97        29\n",
      "\n",
      "    accuracy                           0.95        44\n",
      "   macro avg       0.97      0.93      0.95        44\n",
      "weighted avg       0.96      0.95      0.95        44\n",
      "\n"
     ]
    },
    {
     "data": {
      "image/png": "[encoded data removed]",
      "text/plain": [
       "<Figure size 640x480 with 2 Axes>"
      ]
     },
     "metadata": {},
     "output_type": "display_data"
    }
   ],
   "source": [
    "from sklearn.model_selection import train_test_split\n",
    "from sklearn.ensemble import RandomForestClassifier\n",
    "from sklearn.metrics import classification_report, confusion_matrix\n",
    "import matplotlib.pyplot as plt\n",
    "import seaborn as sns\n",
    "\n",
    "# Reload the dataset since it was cleared from memory\n",
    "file_path = './audio_features.csv'\n",
    "audio_features_df = pd.read_csv(file_path)\n",
    "\n",
    "# Load data\n",
    "X = audio_features_df.iloc[:, :-1].values  # Feature columns\n",
    "y = audio_features_df['label'].values      # Labels\n",
    "\n",
    "# Split into train and test sets\n",
    "X_train, X_test, y_train, y_test = train_test_split(X, y, test_size=0.2, random_state=42, stratify=y)\n",
    "\n",
    "# Train a Random Forest Classifier\n",
    "model = RandomForestClassifier(n_estimators=100, random_state=42)\n",
    "model.fit(X_train, y_train)\n",
    "\n",
    "# Make predictions\n",
    "y_pred = model.predict(X_test)\n",
    "\n",
    "# Evaluate the model\n",
    "print(\"Classification Report:\")\n",
    "print(classification_report(y_test, y_pred))\n",
    "\n",
    "# Confusion Matrix\n",
    "cm = confusion_matrix(y_test, y_pred)\n",
    "sns.heatmap(cm, annot=True, fmt=\"d\", cmap=\"Blues\", xticklabels=model.classes_, yticklabels=model.classes_)\n",
    "plt.xlabel(\"Predicted\")\n",
    "plt.ylabel(\"Actual\")\n",
    "plt.title(\"Confusion Matrix\")\n",
    "plt.show()"
   ]
  },
  {
   "cell_type": "code",
   "execution_count": 2,
   "metadata": {},
   "outputs": [
    {
     "ename": "ModuleNotFoundError",
     "evalue": "No module named 'joblib'",
     "output_type": "error",
     "traceback": [
      "\u001b[1;31m---------------------------------------------------------------------------\u001b[0m",
      "\u001b[1;31mModuleNotFoundError\u001b[0m                       Traceback (most recent call last)",
      "Cell \u001b[1;32mIn[2], line 1\u001b[0m\n\u001b[1;32m----> 1\u001b[0m \u001b[38;5;28;01mimport\u001b[39;00m \u001b[38;5;21;01mjoblib\u001b[39;00m\n\u001b[0;32m      3\u001b[0m \u001b[38;5;66;03m# Save the model\u001b[39;00m\n\u001b[0;32m      4\u001b[0m model_filename \u001b[38;5;241m=\u001b[39m \u001b[38;5;124m\"\u001b[39m\u001b[38;5;124mC:/Users/brain/Desktop/VIGILO_DEPLOY/models/audio_classification_model.pkl\u001b[39m\u001b[38;5;124m\"\u001b[39m\n",
      "\u001b[1;31mModuleNotFoundError\u001b[0m: No module named 'joblib'"
     ]
    }
   ],
   "source": [
    "import joblib\n",
    "\n",
    "# Save the model\n",
    "model_filename = \"C:/Users/brain/Desktop/VIGILO_DEPLOY/models/audio_classification_model.pkl\"\n",
    "joblib.dump(model, model_filename)\n",
    "print(f\"Model saved to {model_filename}\")"
   ]
  },
  {
   "cell_type": "code",
   "execution_count": 14,
   "metadata": {},
   "outputs": [
    {
     "name": "stdout",
     "output_type": "stream",
     "text": [
      "Model loaded successfully.\n"
     ]
    }
   ],
   "source": [
    "# Load the model\n",
    "loaded_model = joblib.load(model_filename)\n",
    "print(\"Model loaded successfully.\")"
   ]
  },
  {
   "cell_type": "code",
   "execution_count": 28,
   "metadata": {},
   "outputs": [
    {
     "name": "stdout",
     "output_type": "stream",
     "text": [
      "Model loaded successfully.\n",
      "Starting live prediction. Press Ctrl+C to stop.\n",
      "Predicted Label: yawning\n",
      "Predicted Label: yawning\n",
      "Predicted Label: crying\n",
      "Predicted Label: crying\n",
      "\n",
      "Live prediction stopped.\n"
     ]
    }
   ],
   "source": [
    "import sounddevice as sd\n",
    "import librosa\n",
    "import numpy as np\n",
    "import joblib\n",
    "import time\n",
    "\n",
    "# Load the trained model\n",
    "model_filename = \"audio_classification_model.pkl\"\n",
    "loaded_model = joblib.load(model_filename)\n",
    "print(\"Model loaded successfully.\")\n",
    "\n",
    "def predict_live_audio(audio, sr, model):\n",
    "    \"\"\"\n",
    "    Predicts the class of a live audio input using the trained model.\n",
    "    \"\"\"\n",
    "    # Extract MFCC features\n",
    "    mfcc = librosa.feature.mfcc(y=audio, sr=sr, n_mfcc=13)\n",
    "    mfcc_mean = np.mean(mfcc.T, axis=0).reshape(1, -1)  # Reshape for the model\n",
    "    \n",
    "    # Make a prediction\n",
    "    prediction = model.predict(mfcc_mean)\n",
    "    return prediction[0]\n",
    "\n",
    "def continuous_prediction(model, duration=2, sr=22050):\n",
    "    \"\"\"\n",
    "    Continuously records and predicts live audio in short segments.\n",
    "    \"\"\"\n",
    "    print(\"Starting live prediction. Press Ctrl+C to stop.\")\n",
    "    try:\n",
    "        while True:\n",
    "            # Record short audio segment\n",
    "            audio = sd.rec(int(duration * sr), samplerate=sr, channels=1, dtype='float32')\n",
    "            sd.wait()  # Wait for the recording to finish\n",
    "            \n",
    "            # Flatten the audio and make prediction\n",
    "            audio = audio.flatten()\n",
    "            predicted_label = predict_live_audio(audio, sr, model)\n",
    "            \n",
    "            # Output the prediction\n",
    "            print(f\"Predicted Label: {predicted_label}\")\n",
    "            \n",
    "            # Sleep for a short duration before the next recording\n",
    "            time.sleep(0.5)\n",
    "    except KeyboardInterrupt:\n",
    "        print(\"\\nLive prediction stopped.\")\n",
    "\n",
    "# Start live predictions\n",
    "continuous_prediction(loaded_model, duration=3)"
   ]
  },
  {
   "cell_type": "code",
   "execution_count": 1,
   "metadata": {},
   "outputs": [
    {
     "ename": "ModuleNotFoundError",
     "evalue": "No module named 'sounddevice'",
     "output_type": "error",
     "traceback": [
      "\u001b[1;31m---------------------------------------------------------------------------\u001b[0m",
      "\u001b[1;31mModuleNotFoundError\u001b[0m                       Traceback (most recent call last)",
      "Cell \u001b[1;32mIn[1], line 1\u001b[0m\n\u001b[1;32m----> 1\u001b[0m \u001b[38;5;28;01mimport\u001b[39;00m \u001b[38;5;21;01msounddevice\u001b[39;00m \u001b[38;5;28;01mas\u001b[39;00m \u001b[38;5;21;01msd\u001b[39;00m\n\u001b[0;32m      2\u001b[0m \u001b[38;5;28;01mimport\u001b[39;00m \u001b[38;5;21;01mlibrosa\u001b[39;00m\n\u001b[0;32m      3\u001b[0m \u001b[38;5;28;01mimport\u001b[39;00m \u001b[38;5;21;01mnumpy\u001b[39;00m \u001b[38;5;28;01mas\u001b[39;00m \u001b[38;5;21;01mnp\u001b[39;00m\n",
      "\u001b[1;31mModuleNotFoundError\u001b[0m: No module named 'sounddevice'"
     ]
    }
   ],
   "source": [
    "import sounddevice as sd\n",
    "import librosa\n",
    "import numpy as np\n",
    "import joblib\n",
    "import time\n",
    "\n",
    "# Load the trained model\n",
    "model_filename = \"C:/Users/brain/Desktop/VIGILO_DEPLOY/models/audio_classification_model.pkl\"\n",
    "loaded_model = joblib.load(model_filename)\n",
    "print(\"Model loaded successfully.\")\n",
    "\n",
    "def is_silent(audio, threshold=0.01):\n",
    "    \"\"\"\n",
    "    Checks if the audio is silent based on RMS (Root Mean Square) energy.\n",
    "    \"\"\"\n",
    "    rms = np.sqrt(np.mean(audio**2))\n",
    "    return rms < threshold\n",
    "\n",
    "def predict_live_audio(audio, sr, model, silence_threshold=0.01):\n",
    "    \"\"\"\n",
    "    Predicts the class of a live audio input using the trained model, with silence detection.\n",
    "    \"\"\"\n",
    "    # Check for silence\n",
    "    if is_silent(audio, threshold=silence_threshold):\n",
    "        return \"neutral\"  # Return \"neutral\" if the audio is silent\n",
    "\n",
    "    # Extract MFCC features\n",
    "    mfcc = librosa.feature.mfcc(y=audio, sr=sr, n_mfcc=13)\n",
    "    mfcc_mean = np.mean(mfcc.T, axis=0).reshape(1, -1)  # Reshape for the model\n",
    "\n",
    "    # Make a prediction\n",
    "    prediction = model.predict(mfcc_mean)\n",
    "    return prediction[0]\n",
    "\n",
    "def continuous_prediction(model, duration=3, sr=22050):\n",
    "    \"\"\"\n",
    "    Continuously records and predicts live audio in short segments.\n",
    "    \"\"\"\n",
    "    print(\"Starting live prediction. Press Ctrl+C to stop.\")\n",
    "    try:\n",
    "        while True:\n",
    "            # Record short audio segment\n",
    "            audio = sd.rec(int(duration * sr), samplerate=sr, channels=1, dtype='float32')\n",
    "            sd.wait()  # Wait for the recording to finish\n",
    "            \n",
    "            # Flatten the audio and make prediction\n",
    "            audio = audio.flatten()\n",
    "            predicted_label = predict_live_audio(audio, sr, model)\n",
    "            \n",
    "            # Output the prediction\n",
    "            print(f\"Predicted Label: {predicted_label}\")\n",
    "            \n",
    "            # Sleep for a short duration before the next recording\n",
    "            time.sleep(0.5)\n",
    "    except KeyboardInterrupt:\n",
    "        print(\"\\nLive prediction stopped.\")\n",
    "\n",
    "# Start live predictions\n",
    "continuous_prediction(loaded_model, duration=2)\n"
   ]
  }
 ],
 "metadata": {
  "kernelspec": {
   "display_name": "base",
   "language": "python",
   "name": "python3"
  },
  "language_info": {
   "codemirror_mode": {
    "name": "ipython",
    "version": 3
   },
   "file_extension": ".py",
   "mimetype": "text/x-python",
   "name": "python",
   "nbconvert_exporter": "python",
   "pygments_lexer": "ipython3",
   "version": "3.11.9"
  }
 },
 "nbformat": 4,
 "nbformat_minor": 2
}
